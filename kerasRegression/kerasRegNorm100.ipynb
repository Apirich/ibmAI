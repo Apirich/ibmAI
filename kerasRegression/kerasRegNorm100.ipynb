{
 "cells": [
  {
   "cell_type": "code",
   "execution_count": null,
   "metadata": {},
   "outputs": [],
   "source": [
    "import pandas as pd\n",
    "import numpy as np"
   ]
  },
  {
   "cell_type": "markdown",
   "metadata": {},
   "source": [
    "DATASET"
   ]
  },
  {
   "cell_type": "code",
   "execution_count": null,
   "metadata": {},
   "outputs": [],
   "source": [
    "# Conrete dataset\n",
    "df = pd.read_csv(\"./concrete_data.csv\")\n",
    "df.head()"
   ]
  },
  {
   "cell_type": "code",
   "execution_count": null,
   "metadata": {},
   "outputs": [],
   "source": [
    "# Entries in the dataset\n",
    "df.shape"
   ]
  },
  {
   "cell_type": "code",
   "execution_count": null,
   "metadata": {},
   "outputs": [],
   "source": [
    "# Data summarization\n",
    "df.describe()"
   ]
  },
  {
   "cell_type": "code",
   "execution_count": null,
   "metadata": {},
   "outputs": [],
   "source": [
    "# Check if there is null data\n",
    "df.isnull().sum()"
   ]
  },
  {
   "cell_type": "markdown",
   "metadata": {},
   "source": [
    "Split data: PREDICTORS and TARGET"
   ]
  },
  {
   "cell_type": "code",
   "execution_count": null,
   "metadata": {},
   "outputs": [],
   "source": [
    "allColumns = df.columns\n",
    "\n",
    "# All columns except \"Strength\" are predictors\n",
    "predictors = df[allColumns[allColumns != \"Strength\"]]\n",
    "\n",
    "# \"Strength\" is target\n",
    "target = df[\"Strength\"]"
   ]
  },
  {
   "cell_type": "code",
   "execution_count": null,
   "metadata": {},
   "outputs": [],
   "source": [
    "# Quick sanity check on predictors\n",
    "predictors.head()"
   ]
  },
  {
   "cell_type": "code",
   "execution_count": null,
   "metadata": {},
   "outputs": [],
   "source": [
    "# Quick sanity check on target\n",
    "target.head()"
   ]
  },
  {
   "cell_type": "code",
   "execution_count": null,
   "metadata": {},
   "outputs": [],
   "source": [
    "# Normalize data\n",
    "predictorsNorm = (predictors - predictors.mean()) / predictors.std()\n",
    "predictorsNorm.head()"
   ]
  },
  {
   "cell_type": "code",
   "execution_count": null,
   "metadata": {},
   "outputs": [],
   "source": [
    "# Number of predictor\n",
    "nPredictors = predictorsNorm.shape[1]\n",
    "nPredictors"
   ]
  },
  {
   "cell_type": "markdown",
   "metadata": {},
   "source": [
    "Build Keras Neural Network Model"
   ]
  },
  {
   "cell_type": "code",
   "execution_count": null,
   "metadata": {},
   "outputs": [],
   "source": [
    "import keras\n",
    "\n",
    "from keras.models import Sequential\n",
    "from keras.layers import Dense"
   ]
  },
  {
   "cell_type": "markdown",
   "metadata": {},
   "source": [
    "Regression Model"
   ]
  },
  {
   "cell_type": "code",
   "execution_count": null,
   "metadata": {},
   "outputs": [],
   "source": [
    "# define regression model\n",
    "def regression_model():\n",
    "    # create model\n",
    "    model = Sequential()\n",
    "    model.add(Dense(10, activation = \"relu\", input_shape=(nPredictors,)))\n",
    "    model.add(Dense(1))\n",
    "\n",
    "    # compile model\n",
    "    model.compile(optimizer = \"adam\", loss = \"mean_squared_error\")\n",
    "    return model"
   ]
  },
  {
   "cell_type": "markdown",
   "metadata": {},
   "source": [
    "Split TRAINING SET and TEST SET"
   ]
  },
  {
   "cell_type": "code",
   "execution_count": null,
   "metadata": {},
   "outputs": [],
   "source": [
    "from sklearn.model_selection import train_test_split\n",
    "\n",
    "# 70% training set and 30% testing set\n",
    "xTrain, xTest, yTrain, yTest = train_test_split(predictorsNorm, target, test_size = 0.3)"
   ]
  },
  {
   "cell_type": "markdown",
   "metadata": {},
   "source": [
    "TRAIN the Model"
   ]
  },
  {
   "cell_type": "code",
   "execution_count": null,
   "metadata": {},
   "outputs": [],
   "source": [
    "model = regression_model()\n",
    "\n",
    "# train using fit method\n",
    "model.fit(xTrain, yTrain, epochs = 100, verbose = 0)"
   ]
  },
  {
   "cell_type": "markdown",
   "metadata": {},
   "source": [
    "EVALUATE the TEST SET"
   ]
  },
  {
   "cell_type": "code",
   "execution_count": null,
   "metadata": {},
   "outputs": [],
   "source": [
    "score = model.evaluate(xTest, yTest)"
   ]
  },
  {
   "cell_type": "markdown",
   "metadata": {},
   "source": [
    "Mean Square Error (MSE)"
   ]
  },
  {
   "cell_type": "code",
   "execution_count": null,
   "metadata": {},
   "outputs": [],
   "source": [
    "from sklearn.metrics import mean_squared_error\n",
    "\n",
    "# predict y from x\n",
    "yPredicted = model.predict(xTest)\n",
    "\n",
    "# compute mse\n",
    "mse = mean_squared_error(yTest, yPredicted)\n",
    "\n",
    "# report mean and standard deviation of the mse\n",
    "mean = np.mean(mse)\n",
    "sd = np.std(mse)\n",
    "\n",
    "print(mean, sd)"
   ]
  },
  {
   "cell_type": "markdown",
   "metadata": {},
   "source": [
    "LIST of 50 MSE"
   ]
  },
  {
   "cell_type": "code",
   "execution_count": null,
   "metadata": {},
   "outputs": [],
   "source": [
    "listMSE = 50\n",
    "\n",
    "mseArr = []\n",
    "\n",
    "for i in range(0, listMSE):\n",
    "    xTrain, xTest, yTrain, yTest = train_test_split(predictorsNorm, target, test_size = 0.3, random_state = i)\n",
    "\n",
    "    model.fit(xTrain, yTrain, epochs = 100, verbose = 0)\n",
    "\n",
    "    score = model.evaluate(xTest, yTest)\n",
    "    print(\"Evaluation \" + str(i + 1)+ \": \" + str(score))\n",
    "\n",
    "    yPredicted = model.predict(xTest)\n",
    "\n",
    "    mse = mean_squared_error(yTest, yPredicted)\n",
    "    mseArr.append(mse)\n",
    "\n",
    "mseArr = np.array(mseArr)\n",
    "\n",
    "# mean and standard deviation of 50 MSE\n",
    "mean = np.mean(mseArr)\n",
    "sd = np.std(mseArr)\n",
    "\n",
    "print('\\n')\n",
    "print(\"The mean and the standard deviation of \" + str(listMSE) + \" MSE. Normalized Version with 100 epochs.\" + \"\\n\")\n",
    "print(\"Mean: \"+str(mean))\n",
    "print(\"Standard Deviation: \"+str(sd))"
   ]
  }
 ],
 "metadata": {
  "kernelspec": {
   "display_name": "Python 3",
   "language": "python",
   "name": "python3"
  },
  "language_info": {
   "codemirror_mode": {
    "name": "ipython",
    "version": 3
   },
   "file_extension": ".py",
   "mimetype": "text/x-python",
   "name": "python",
   "nbconvert_exporter": "python",
   "pygments_lexer": "ipython3",
   "version": "3.12.1"
  }
 },
 "nbformat": 4,
 "nbformat_minor": 2
}
